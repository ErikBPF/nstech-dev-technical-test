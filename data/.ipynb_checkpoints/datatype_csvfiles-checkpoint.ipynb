{
 "cells": [
  {
   "cell_type": "code",
   "execution_count": 3,
   "id": "26704777",
   "metadata": {},
   "outputs": [],
   "source": [
    "import pandas as pd"
   ]
  },
  {
   "cell_type": "code",
   "execution_count": 8,
   "id": "68a5787a",
   "metadata": {},
   "outputs": [],
   "source": [
    "df = pd.read_csv(\"partidas.csv\", sep = \",\", encoding = \"UTF-8\")\n",
    "\n",
    "df2 = pd.read_csv(\"cartoes.csv\", sep = \",\", encoding = \"UTF-8\")\n",
    "\n",
    "df3 = pd.read_csv(\"gols.csv\", sep = \",\", encoding = \"UTF-8\")"
   ]
  },
  {
   "cell_type": "code",
   "execution_count": 9,
   "id": "6e25542e",
   "metadata": {},
   "outputs": [
    {
     "name": "stdout",
     "output_type": "stream",
     "text": [
      "<class 'pandas.core.frame.DataFrame'>\n",
      "RangeIndex: 7645 entries, 0 to 7644\n",
      "Data columns (total 18 columns):\n",
      " #   Column              Non-Null Count  Dtype \n",
      "---  ------              --------------  ----- \n",
      " 0   ID                  7645 non-null   int64 \n",
      " 1   rodada              7645 non-null   int64 \n",
      " 2   data                7645 non-null   object\n",
      " 3   hora                7645 non-null   object\n",
      " 4   dia                 7645 non-null   object\n",
      " 5   mandante            7645 non-null   object\n",
      " 6   visitante           7645 non-null   object\n",
      " 7   formacao_mandante   2671 non-null   object\n",
      " 8   formacao_visitante  2671 non-null   object\n",
      " 9   tecnico_mandante    3035 non-null   object\n",
      " 10  tecnico_visitante   3035 non-null   object\n",
      " 11  vencedor            7645 non-null   object\n",
      " 12  arena               7645 non-null   object\n",
      " 13  mandante_placar     7645 non-null   int64 \n",
      " 14  visitante_placar    7645 non-null   int64 \n",
      " 15  mandante_estado     7645 non-null   object\n",
      " 16  visitante_estado    7645 non-null   object\n",
      " 17  estado_vencedor     7645 non-null   object\n",
      "dtypes: int64(4), object(14)\n",
      "memory usage: 1.1+ MB\n",
      "<class 'pandas.core.frame.DataFrame'>\n",
      "RangeIndex: 14768 entries, 0 to 14767\n",
      "Data columns (total 8 columns):\n",
      " #   Column      Non-Null Count  Dtype  \n",
      "---  ------      --------------  -----  \n",
      " 0   partida_id  14768 non-null  int64  \n",
      " 1   rodada      14768 non-null  int64  \n",
      " 2   clube       14768 non-null  object \n",
      " 3   cartao      14768 non-null  object \n",
      " 4   atleta      14762 non-null  object \n",
      " 5   num_camisa  14382 non-null  float64\n",
      " 6   posicao     13570 non-null  object \n",
      " 7   minuto      14768 non-null  object \n",
      "dtypes: float64(1), int64(2), object(5)\n",
      "memory usage: 923.1+ KB\n",
      "<class 'pandas.core.frame.DataFrame'>\n",
      "RangeIndex: 7081 entries, 0 to 7080\n",
      "Data columns (total 5 columns):\n",
      " #   Column      Non-Null Count  Dtype \n",
      "---  ------      --------------  ----- \n",
      " 0   partida_id  7081 non-null   int64 \n",
      " 1   rodada      7081 non-null   int64 \n",
      " 2   clube       7081 non-null   object\n",
      " 3   atleta      7081 non-null   object\n",
      " 4   minuto      7081 non-null   object\n",
      "dtypes: int64(2), object(3)\n",
      "memory usage: 276.7+ KB\n"
     ]
    }
   ],
   "source": [
    "df.info()\n",
    "\n",
    "df2.info()\n",
    "\n",
    "df3.info()"
   ]
  }
 ],
 "metadata": {
  "kernelspec": {
   "display_name": "Python 3 (ipykernel)",
   "language": "python",
   "name": "python3"
  },
  "language_info": {
   "codemirror_mode": {
    "name": "ipython",
    "version": 3
   },
   "file_extension": ".py",
   "mimetype": "text/x-python",
   "name": "python",
   "nbconvert_exporter": "python",
   "pygments_lexer": "ipython3",
   "version": "3.8.10"
  }
 },
 "nbformat": 4,
 "nbformat_minor": 5
}
