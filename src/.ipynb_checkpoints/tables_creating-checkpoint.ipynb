{
 "cells": [
  {
   "cell_type": "code",
   "execution_count": 6,
   "id": "6e74df14",
   "metadata": {},
   "outputs": [],
   "source": [
    "#!pip install psycopg2-binary"
   ]
  },
  {
   "cell_type": "code",
   "execution_count": 7,
   "id": "88e0cbc2",
   "metadata": {},
   "outputs": [],
   "source": [
    "#Biblioteca DBMS para postgresql\n",
    "import psycopg2"
   ]
  },
  {
   "cell_type": "code",
   "execution_count": 8,
   "id": "9af12fce",
   "metadata": {},
   "outputs": [],
   "source": [
    "#Conexão para criar banco de dados\n",
    "\n",
    "connection = psycopg2.connect(user = \"postgres\",\n",
    "                              password = \"postgres-test\",\n",
    "                              host = \"localhost\",  \n",
    "                              port = \"15432\",\n",
    "                              database = \"postgres\"\n",
    "              )\n",
    "\n",
    "#Criação do banco de dados\n",
    "#sqlCreateDatabase = \"CREATE DATABASE technical_test ;\"\n",
    "\n",
    "#Cursor para banco de dados, o qual executa os comandos de conexão\n",
    "connection.autocommit = True\n",
    "cursor = connection.cursor()\n"
   ]
  },
  {
   "cell_type": "code",
   "execution_count": 9,
   "id": "0e632f89",
   "metadata": {},
   "outputs": [],
   "source": [
    "#Criação de tabelas para alocação dos dados de arquivos '.csvs' disponibilizados\n",
    "\n",
    "tb = ''' CREATE TABLE partidas ( ID int , rodada int , data VARCHAR(255), hora VARCHAR(255),\n",
    "\n",
    "                                dia VARCHAR(255), mandante VARCHAR(255), visitante VARCHAR(255), formacao_mandante VARCHAR(255),\n",
    "                                \n",
    "                                formacao_visitante VARCHAR(255), tecnico_mandante VARCHAR(255), tecnico_visitante VARCHAR(255),\n",
    "                                \n",
    "                                vencedor VARCHAR(255), arena VARCHAR(255), mandante_placar int, visitante_placar int, \n",
    "                                \n",
    "                                mandante_estado VARCHAR(255), visitante_estado VARCHAR(255), estado_vencedor VARCHAR(255) )\n",
    "\n",
    "'''\n",
    "cursor.execute(tb)\n",
    "\n",
    "tb2 = ''' CREATE TABLE gols ( partida_id int, rodada int, clube VARCHAR(255),\n",
    "                              atleta VARCHAR(255), minuto VARCHAR(255) )\n",
    "\n",
    "'''\n",
    "\n",
    "cursor.execute(tb2)\n",
    "\n",
    "tb3 = ''' CREATE TABLE cartoes ( partida_id int, rodada int, clube VARCHAR(255), cartao VARCHAR(255),\n",
    "                                 atleta VARCHAR(255), num_camisa float, posicao VARCHAR(255), minuto VARCHAR(255) )\n",
    "'''\n",
    "\n",
    "cursor.execute(tb3)"
   ]
  },
  {
   "cell_type": "code",
   "execution_count": 10,
   "id": "ea4bad1c",
   "metadata": {},
   "outputs": [],
   "source": [
    "#Para encerrar o cursor e a conexão\n",
    "cursor.close()\n",
    "connection.close()"
   ]
  }
 ],
 "metadata": {
  "kernelspec": {
   "display_name": "Python 3 (ipykernel)",
   "language": "python",
   "name": "python3"
  },
  "language_info": {
   "codemirror_mode": {
    "name": "ipython",
    "version": 3
   },
   "file_extension": ".py",
   "mimetype": "text/x-python",
   "name": "python",
   "nbconvert_exporter": "python",
   "pygments_lexer": "ipython3",
   "version": "3.8.10"
  }
 },
 "nbformat": 4,
 "nbformat_minor": 5
}
